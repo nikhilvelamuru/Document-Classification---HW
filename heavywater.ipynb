{
 "cells": [
  {
   "cell_type": "code",
   "execution_count": 1,
   "metadata": {
    "collapsed": true
   },
   "outputs": [],
   "source": [
    "import numpy as np\n",
    "import pandas as pd\n",
    "import matplotlib.pyplot as plt\n",
    "import keras\n",
    "\n",
    "from sklearn.linear_model import LogisticRegression\n",
    "from sklearn import svm\n",
    "from sklearn.naive_bayes import MultinomialNB\n",
    "from sklearn.ensemble import AdaBoostClassifier\n",
    "from sklearn.model_selection import cross_val_predict\n",
    "from sklearn.model_selection import StratifiedKFold\n",
    "from sklearn.model_selection import train_test_split\n",
    "from sklearn.metrics import log_loss, accuracy_score\n",
    "from sklearn.ensemble import RandomForestClassifier\n",
    "from keras.models import Sequential\n",
    "from keras.layers import Dense\n",
    "from keras.layers import Flatten, Dropout"
   ]
  },
  {
   "cell_type": "markdown",
   "metadata": {},
   "source": [
    "#### Reading the data"
   ]
  },
  {
   "cell_type": "code",
   "execution_count": 2,
   "metadata": {
    "collapsed": true
   },
   "outputs": [],
   "source": [
    "df = pd.read_csv('shuffled-full-set-hashed.csv',names = [\"label\", \"words\"])"
   ]
  },
  {
   "cell_type": "markdown",
   "metadata": {},
   "source": [
    "#### EDA"
   ]
  },
  {
   "cell_type": "code",
   "execution_count": 3,
   "metadata": {},
   "outputs": [
    {
     "name": "stdout",
     "output_type": "stream",
     "text": [
      "(62204, 2)\n"
     ]
    },
    {
     "data": {
      "text/html": [
       "<div>\n",
       "<style scoped>\n",
       "    .dataframe tbody tr th:only-of-type {\n",
       "        vertical-align: middle;\n",
       "    }\n",
       "\n",
       "    .dataframe tbody tr th {\n",
       "        vertical-align: top;\n",
       "    }\n",
       "\n",
       "    .dataframe thead th {\n",
       "        text-align: right;\n",
       "    }\n",
       "</style>\n",
       "<table border=\"1\" class=\"dataframe\">\n",
       "  <thead>\n",
       "    <tr style=\"text-align: right;\">\n",
       "      <th></th>\n",
       "      <th>label</th>\n",
       "      <th>words</th>\n",
       "    </tr>\n",
       "  </thead>\n",
       "  <tbody>\n",
       "    <tr>\n",
       "      <th>0</th>\n",
       "      <td>DELETION OF INTEREST</td>\n",
       "      <td>e04a09c87692 d6b72e591b91 5d066f0246f1 ed41171...</td>\n",
       "    </tr>\n",
       "    <tr>\n",
       "      <th>1</th>\n",
       "      <td>RETURNED CHECK</td>\n",
       "      <td>a3b334c6eefd be95012ebf2b 41d67080e078 ff1c26e...</td>\n",
       "    </tr>\n",
       "    <tr>\n",
       "      <th>2</th>\n",
       "      <td>BILL</td>\n",
       "      <td>586242498a88 9ccf259ca087 54709b24b45f 6bf9c0c...</td>\n",
       "    </tr>\n",
       "    <tr>\n",
       "      <th>3</th>\n",
       "      <td>BILL</td>\n",
       "      <td>cd50e861f48b 6ca2dd348663 d38820625542 f077614...</td>\n",
       "    </tr>\n",
       "    <tr>\n",
       "      <th>4</th>\n",
       "      <td>BILL</td>\n",
       "      <td>9db5536263d8 1c303d15eb65 3f89b4673455 b73e657...</td>\n",
       "    </tr>\n",
       "  </tbody>\n",
       "</table>\n",
       "</div>"
      ],
      "text/plain": [
       "                  label                                              words\n",
       "0  DELETION OF INTEREST  e04a09c87692 d6b72e591b91 5d066f0246f1 ed41171...\n",
       "1        RETURNED CHECK  a3b334c6eefd be95012ebf2b 41d67080e078 ff1c26e...\n",
       "2                  BILL  586242498a88 9ccf259ca087 54709b24b45f 6bf9c0c...\n",
       "3                  BILL  cd50e861f48b 6ca2dd348663 d38820625542 f077614...\n",
       "4                  BILL  9db5536263d8 1c303d15eb65 3f89b4673455 b73e657..."
      ]
     },
     "execution_count": 3,
     "metadata": {},
     "output_type": "execute_result"
    }
   ],
   "source": [
    "print(df.shape)\n",
    "df.head()"
   ]
  },
  {
   "cell_type": "code",
   "execution_count": 4,
   "metadata": {},
   "outputs": [
    {
     "data": {
      "text/html": [
       "<div>\n",
       "<style scoped>\n",
       "    .dataframe tbody tr th:only-of-type {\n",
       "        vertical-align: middle;\n",
       "    }\n",
       "\n",
       "    .dataframe tbody tr th {\n",
       "        vertical-align: top;\n",
       "    }\n",
       "\n",
       "    .dataframe thead th {\n",
       "        text-align: right;\n",
       "    }\n",
       "</style>\n",
       "<table border=\"1\" class=\"dataframe\">\n",
       "  <thead>\n",
       "    <tr style=\"text-align: right;\">\n",
       "      <th></th>\n",
       "      <th>count</th>\n",
       "      <th>unique</th>\n",
       "      <th>top</th>\n",
       "      <th>freq</th>\n",
       "    </tr>\n",
       "  </thead>\n",
       "  <tbody>\n",
       "    <tr>\n",
       "      <th>label</th>\n",
       "      <td>62204</td>\n",
       "      <td>14</td>\n",
       "      <td>BILL</td>\n",
       "      <td>18968</td>\n",
       "    </tr>\n",
       "    <tr>\n",
       "      <th>words</th>\n",
       "      <td>62159</td>\n",
       "      <td>60176</td>\n",
       "      <td>bf064c332aa1 079935e500e5 1a4dd36c6de0 7efa289...</td>\n",
       "      <td>11</td>\n",
       "    </tr>\n",
       "  </tbody>\n",
       "</table>\n",
       "</div>"
      ],
      "text/plain": [
       "       count unique                                                top   freq\n",
       "label  62204     14                                               BILL  18968\n",
       "words  62159  60176  bf064c332aa1 079935e500e5 1a4dd36c6de0 7efa289...     11"
      ]
     },
     "execution_count": 4,
     "metadata": {},
     "output_type": "execute_result"
    }
   ],
   "source": [
    "df.describe().T"
   ]
  },
  {
   "cell_type": "code",
   "execution_count": 5,
   "metadata": {},
   "outputs": [
    {
     "data": {
      "image/png": "[encoded data removed]",
      "text/plain": [
       "<Figure size 720x360 with 1 Axes>"
      ]
     },
     "metadata": {},
     "output_type": "display_data"
    }
   ],
   "source": [
    "# Bar graph for labels\n",
    "df['label'].value_counts().plot(kind='bar', figsize=(10,5))\n",
    "plt.show()"
   ]
  },
  {
   "cell_type": "code",
   "execution_count": 6,
   "metadata": {},
   "outputs": [
    {
     "data": {
      "text/plain": [
       "label     0\n",
       "words    45\n",
       "dtype: int64"
      ]
     },
     "execution_count": 6,
     "metadata": {},
     "output_type": "execute_result"
    }
   ],
   "source": [
    "# # Check for null values\n",
    "df.isnull().sum()"
   ]
  },
  {
   "cell_type": "code",
   "execution_count": 7,
   "metadata": {},
   "outputs": [
    {
     "data": {
      "text/plain": [
       "(62159, 2)"
      ]
     },
     "execution_count": 7,
     "metadata": {},
     "output_type": "execute_result"
    }
   ],
   "source": [
    "# Drop the null values\n",
    "df.dropna(inplace=True)\n",
    "df.shape"
   ]
  },
  {
   "cell_type": "code",
   "execution_count": 8,
   "metadata": {
    "collapsed": true
   },
   "outputs": [],
   "source": [
    "X = df['words']\n",
    "y = df['label']"
   ]
  },
  {
   "cell_type": "code",
   "execution_count": 10,
   "metadata": {},
   "outputs": [
    {
     "data": {
      "text/plain": [
       "(62159, 14)"
      ]
     },
     "execution_count": 10,
     "metadata": {},
     "output_type": "execute_result"
    }
   ],
   "source": [
    "# Encoding the labels\n",
    "\n",
    "# from sklearn import preprocessing\n",
    "# le = preprocessing.LabelEncoder()\n",
    "# y = le.fit_transform(y)\n",
    "\n",
    "y_ = pd.get_dummies(y)\n",
    "y_.shape"
   ]
  },
  {
   "cell_type": "code",
   "execution_count": 11,
   "metadata": {},
   "outputs": [
    {
     "data": {
      "text/plain": [
       "Index(['APPLICATION', 'BILL', 'BILL BINDER', 'BINDER', 'CANCELLATION NOTICE',\n",
       "       'CHANGE ENDORSEMENT', 'DECLARATION', 'DELETION OF INTEREST',\n",
       "       'EXPIRATION NOTICE', 'INTENT TO CANCEL NOTICE', 'NON-RENEWAL NOTICE',\n",
       "       'POLICY CHANGE', 'REINSTATEMENT NOTICE', 'RETURNED CHECK'],\n",
       "      dtype='object')"
      ]
     },
     "execution_count": 11,
     "metadata": {},
     "output_type": "execute_result"
    }
   ],
   "source": [
    "y_.columns"
   ]
  },
  {
   "cell_type": "code",
   "execution_count": 37,
   "metadata": {
    "collapsed": true
   },
   "outputs": [],
   "source": [
    "# seed = 10\n",
    "# validation_size = 0.20\n",
    "# X_train, X_test, y_train, y_test = train_test_split(X, y, test_size=validation_size, random_state=seed)"
   ]
  },
  {
   "cell_type": "code",
   "execution_count": 16,
   "metadata": {
    "collapsed": true
   },
   "outputs": [],
   "source": [
    "## Encoded split\n",
    "seed = 10\n",
    "validation_size = 0.20\n",
    "X_train, X_test, y_train, y_test = train_test_split(X, y_, test_size=validation_size, random_state=seed)"
   ]
  },
  {
   "cell_type": "markdown",
   "metadata": {},
   "source": [
    "#### Vectorizing using TF-IDF"
   ]
  },
  {
   "cell_type": "code",
   "execution_count": 17,
   "metadata": {
    "collapsed": true
   },
   "outputs": [],
   "source": [
    "# Convert a collection of raw documents to a matrix of TF-IDF features.\n",
    "# max_features has been set to overcome the computing issues\n",
    "from sklearn.feature_extraction.text import TfidfVectorizer\n",
    "vectorizer = TfidfVectorizer(max_features=10000)\n",
    "X_train = vectorizer.fit_transform(X_train.values)\n",
    "X_test = vectorizer.transform(X_test.values)"
   ]
  },
  {
   "cell_type": "markdown",
   "metadata": {},
   "source": [
    "#### Evaluating various Models"
   ]
  },
  {
   "cell_type": "code",
   "execution_count": 19,
   "metadata": {
    "collapsed": true
   },
   "outputs": [],
   "source": [
    "def evaluate(X, y, clf=None):\n",
    "    probas = cross_val_predict(clf, X, y, cv=StratifiedKFold(n_splits=5, random_state=8), \n",
    "                              n_jobs=-1, method='predict_proba', verbose=2)\n",
    "    pred_indices = np.argmax(probas, axis=1)\n",
    "    classes = np.unique(y)\n",
    "    preds = classes[pred_indices]\n",
    "    print('Log loss: {}'.format(log_loss(y, probas)))\n",
    "    print('Accuracy: {}'.format(accuracy_score(y, preds)))"
   ]
  },
  {
   "cell_type": "code",
   "execution_count": 24,
   "metadata": {},
   "outputs": [
    {
     "name": "stderr",
     "output_type": "stream",
     "text": [
      "[Parallel(n_jobs=-1)]: Done   2 out of   5 | elapsed:   39.8s remaining:   59.8s\n"
     ]
    },
    {
     "name": "stdout",
     "output_type": "stream",
     "text": [
      "Log loss: 0.48781628295878415\n",
      "Accuracy: 0.8536006596014237\n"
     ]
    },
    {
     "name": "stderr",
     "output_type": "stream",
     "text": [
      "[Parallel(n_jobs=-1)]: Done   5 out of   5 | elapsed:   48.7s remaining:    0.0s\n",
      "[Parallel(n_jobs=-1)]: Done   5 out of   5 | elapsed:   48.7s finished\n"
     ]
    }
   ],
   "source": [
    "# Logistic Regression\n",
    "evaluate(X_train, y_train, clf=LogisticRegression())"
   ]
  },
  {
   "cell_type": "code",
   "execution_count": 31,
   "metadata": {},
   "outputs": [
    {
     "name": "stderr",
     "output_type": "stream",
     "text": [
      "[Parallel(n_jobs=-1)]: Done   2 out of   5 | elapsed:  1.3min remaining:  1.9min\n"
     ]
    },
    {
     "name": "stdout",
     "output_type": "stream",
     "text": [
      "Log loss: 2.4238816827374245\n",
      "Accuracy: 0.5713797333440586\n"
     ]
    },
    {
     "name": "stderr",
     "output_type": "stream",
     "text": [
      "[Parallel(n_jobs=-1)]: Done   5 out of   5 | elapsed:  1.6min remaining:    0.0s\n",
      "[Parallel(n_jobs=-1)]: Done   5 out of   5 | elapsed:  1.6min finished\n"
     ]
    }
   ],
   "source": [
    "# Adaboost Classifier\n",
    "evaluate(X_train, y_train, clf=AdaBoostClassifier())"
   ]
  },
  {
   "cell_type": "code",
   "execution_count": 30,
   "metadata": {},
   "outputs": [
    {
     "name": "stderr",
     "output_type": "stream",
     "text": [
      "[Parallel(n_jobs=-1)]: Done   2 out of   5 | elapsed:    1.2s remaining:    1.9s\n"
     ]
    },
    {
     "name": "stdout",
     "output_type": "stream",
     "text": [
      "Log loss: 0.8095094555623207\n",
      "Accuracy: 0.7515434271120317\n"
     ]
    },
    {
     "name": "stderr",
     "output_type": "stream",
     "text": [
      "[Parallel(n_jobs=-1)]: Done   5 out of   5 | elapsed:    1.9s remaining:    0.0s\n",
      "[Parallel(n_jobs=-1)]: Done   5 out of   5 | elapsed:    1.9s finished\n"
     ]
    }
   ],
   "source": [
    "# Naive Bayes\n",
    "evaluate(X_train, y_train, clf=MultinomialNB())"
   ]
  },
  {
   "cell_type": "code",
   "execution_count": 33,
   "metadata": {},
   "outputs": [
    {
     "name": "stderr",
     "output_type": "stream",
     "text": [
      "[Parallel(n_jobs=-1)]: Done   2 out of   5 | elapsed:   33.9s remaining:   50.9s\n",
      "[Parallel(n_jobs=-1)]: Done   5 out of   5 | elapsed:   35.8s remaining:    0.0s\n",
      "[Parallel(n_jobs=-1)]: Done   5 out of   5 | elapsed:   35.8s finished\n"
     ]
    },
    {
     "name": "stdout",
     "output_type": "stream",
     "text": [
      "Log loss: 1.4838913664714906\n",
      "Accuracy: 0.8477487079453818\n"
     ]
    }
   ],
   "source": [
    "# Random Forest Classifier\n",
    "evaluate(X_train, y_train, clf=RandomForestClassifier())"
   ]
  },
  {
   "cell_type": "code",
   "execution_count": null,
   "metadata": {
    "collapsed": true
   },
   "outputs": [],
   "source": [
    "# Logistic Regression is the best performing model, then this idea can be extended to neural networks. \n",
    "# We can say that logistic regression is a neural network with no hidden layer, and just one output node."
   ]
  },
  {
   "cell_type": "code",
   "execution_count": 23,
   "metadata": {
    "collapsed": true
   },
   "outputs": [],
   "source": [
    "# After trying various models, this model is chosen\n",
    "n_feat = 10000\n",
    "def get_model(n_feat):\n",
    "    model = Sequential()\n",
    "    model.add(Dense(128, activation='relu', input_dim=n_feat))\n",
    "    model.add(Dense(128, activation=\"sigmoid\"))\n",
    "    #model.add(Dropout(.2))\n",
    "    #model.add(Dense(256, activation=\"sigmoid\"))\n",
    "    model.add(Dropout(.5))\n",
    "    model.add(Dense(14, activation=\"softmax\"))\n",
    "    model.compile(optimizer=\"rmsprop\", loss=\"categorical_crossentropy\", metrics=[\"accuracy\"])\n",
    "    return model"
   ]
  },
  {
   "cell_type": "code",
   "execution_count": 24,
   "metadata": {},
   "outputs": [
    {
     "data": {
      "text/plain": [
       "(49727, 10000)"
      ]
     },
     "execution_count": 24,
     "metadata": {},
     "output_type": "execute_result"
    }
   ],
   "source": [
    "X_train.shape"
   ]
  },
  {
   "cell_type": "code",
   "execution_count": 26,
   "metadata": {},
   "outputs": [
    {
     "name": "stdout",
     "output_type": "stream",
     "text": [
      "_________________________________________________________________\n",
      "Layer (type)                 Output Shape              Param #   \n",
      "=================================================================\n",
      "dense_6 (Dense)              (None, 128)               1280128   \n",
      "_________________________________________________________________\n",
      "dense_7 (Dense)              (None, 128)               16512     \n",
      "_________________________________________________________________\n",
      "dropout_2 (Dropout)          (None, 128)               0         \n",
      "_________________________________________________________________\n",
      "dense_8 (Dense)              (None, 14)                1806      \n",
      "=================================================================\n",
      "Total params: 1,298,446\n",
      "Trainable params: 1,298,446\n",
      "Non-trainable params: 0\n",
      "_________________________________________________________________\n",
      "None\n",
      "Train on 49727 samples, validate on 12432 samples\n",
      "Epoch 1/5\n",
      "49727/49727 [==============================] - 19s 379us/step - loss: 0.8830 - acc: 0.7334 - val_loss: 0.5403 - val_acc: 0.8333\n",
      "Epoch 2/5\n",
      "49727/49727 [==============================] - 19s 374us/step - loss: 0.4978 - acc: 0.8506 - val_loss: 0.4654 - val_acc: 0.8563\n",
      "Epoch 3/5\n",
      "49727/49727 [==============================] - 18s 371us/step - loss: 0.4145 - acc: 0.8757 - val_loss: 0.4465 - val_acc: 0.8592\n",
      "Epoch 4/5\n",
      "49727/49727 [==============================] - 18s 366us/step - loss: 0.3702 - acc: 0.8883 - val_loss: 0.4421 - val_acc: 0.8652\n",
      "Epoch 5/5\n",
      "49727/49727 [==============================] - 18s 365us/step - loss: 0.3412 - acc: 0.8979 - val_loss: 0.4428 - val_acc: 0.8644\n"
     ]
    }
   ],
   "source": [
    "NN = get_model(n_feat)\n",
    "print(NN.summary())\n",
    "history = NN.fit(X_train,y_train, epochs=5, batch_size=64, validation_data=(X_test, y_test))"
   ]
  },
  {
   "cell_type": "markdown",
   "metadata": {},
   "source": [
    "#### Evaluating the Model performance"
   ]
  },
  {
   "cell_type": "code",
   "execution_count": 27,
   "metadata": {},
   "outputs": [
    {
     "name": "stdout",
     "output_type": "stream",
     "text": [
      "12432/12432 [==============================] - 2s 137us/step\n",
      "Test set\n",
      "  Loss: 0.443\n",
      "  Accuracy: 0.864\n"
     ]
    }
   ],
   "source": [
    "accr = NN.evaluate(X_test,y_test)\n",
    "print('Test set\\n  Loss: {:0.3f}\\n  Accuracy: {:0.3f}'.format(accr[0],accr[1]))"
   ]
  },
  {
   "cell_type": "code",
   "execution_count": 28,
   "metadata": {},
   "outputs": [
    {
     "data": {
      "image/png": "[encoded data removed]",
      "text/plain": [
       "<Figure size 432x288 with 1 Axes>"
      ]
     },
     "metadata": {},
     "output_type": "display_data"
    }
   ],
   "source": [
    "plt.title('Loss')\n",
    "plt.plot(history.history['loss'], label='train')\n",
    "plt.plot(history.history['val_loss'], label='test')\n",
    "plt.legend()\n",
    "plt.show();"
   ]
  },
  {
   "cell_type": "code",
   "execution_count": 235,
   "metadata": {},
   "outputs": [
    {
     "data": {
      "image/png": "[encoded data removed]",
      "text/plain": [
       "<Figure size 432x288 with 1 Axes>"
      ]
     },
     "metadata": {},
     "output_type": "display_data"
    }
   ],
   "source": [
    "plt.title('Accuracy')\n",
    "plt.plot(history.history['acc'], label='train')\n",
    "plt.plot(history.history['val_acc'], label='test')\n",
    "plt.legend()\n",
    "plt.show();"
   ]
  },
  {
   "cell_type": "code",
   "execution_count": null,
   "metadata": {
    "collapsed": true
   },
   "outputs": [],
   "source": [
    "# After trying various combinations of hidden layers NN was the best performing model.\n",
    "# Training loss and accuracy is better than Logistic Regression (Log loss: 0.48781628295878415,Accuracy: 0.8536006596014237)\n",
    "# Current model (loss: 0.3412, acc: 0.8979)"
   ]
  },
  {
   "cell_type": "markdown",
   "metadata": {},
   "source": [
    "#### Testing the model"
   ]
  },
  {
   "cell_type": "code",
   "execution_count": 67,
   "metadata": {},
   "outputs": [
    {
     "name": "stdout",
     "output_type": "stream",
     "text": [
      "[[8.1941773e-11 3.9324896e-06 4.0330440e-11 7.9994847e-05 1.1384566e-02\n",
      "  2.5012303e-06 1.2878934e-03 9.8701549e-01 5.0460727e-07 1.9047858e-06\n",
      "  1.1516807e-06 1.9241884e-04 2.1945944e-07 2.9516321e-05]] DELETION OF INTEREST 0.9870155\n"
     ]
    }
   ],
   "source": [
    "new_complaint = ['cde4f1b2a877 6bf9c0cb01b4 0562c756a2f2 fbb5efbcc5b3 fe081ae57a8b 17bd1f49c9a0 b32153b8b30c 6bf9c0cb01b4 6d1fb90988cf 586242498a88 9ad186d42f69 6b343f522f78 133d46f7ed38 96e70b2e2fc0 6a01047db3ab 40f3a08093c6 ed5d3a65ee2d 6dcc75eaf823 1b6d0614f2c7 3486e5fe0d73 78c3a5c15b68 818a7ff3bf29 578830762b27 d4e08985be1b 2784a2673880 bb11d257e651 7420f0cec354 de4f651eb63b 08cb6a7500f0 5a77390e41f4 d9154c7af554 2b8fa57a48e8 a179031d810a fe081ae57a8b 1015893e384a 5e99d31d8fa4 03ea8eaf674b d06da7343293 ba02159e05b1 892d541c89eb aa1ef5f5355f cf2205dbb077 5071d8aa3768 6b223a390d86 6ce6cc5a3203 b208ae1e8232 efaed70caea1 da8d83a0384e 264341a890cc 1f2955d33eb7 ba3c06a73274 03723393fa70 1015893e384a 586242498a88 1641a72fa752 7d9e333a86da f877ed7dcf49 6bf9c0cb01b4 6b1c8f75a7e2 b32153b8b30c 93790ade6682 a65259ff0092 e432c4501410 b61f1af56200 036087ac04f9 b136f6349cf3 8a3fc46e34c1 6d25574664d2 9cdf4a63deb0 b59e343416f7 d774c0d219f8 3e73b9113504 a457c1b23e3d 0562c756a2f2 0562c756a2f2 93b68f0988ef 4e5019f629a9 eeb86a6a04e4 98d0d51b397c ef237222adfc 1450168c4ac2 22b937b93ed2 f6f466726339 395a5e8185f8 07b4174549d4 b9925442c9c9 8d1bd25011d1 ef4ba44cdf5f 9a42ead47d1c 73801426ea65 0226fe922dd0 8f75273e5510 e1a726bff8dc 3012dd989e4f 95ef80a0b841 7d9e333a86da']\n",
    "padded = vectorizer.transform(new_complaint)\n",
    "pred = NN.predict(padded)\n",
    "labels = y_.columns\n",
    "print(pred, labels[np.argmax(pred)], max(pred[0]))"
   ]
  },
  {
   "cell_type": "markdown",
   "metadata": {},
   "source": [
    "#### Dumping the model and Loading it"
   ]
  },
  {
   "cell_type": "code",
   "execution_count": 73,
   "metadata": {
    "collapsed": true
   },
   "outputs": [],
   "source": [
    "NN.save(\"nn_model.h5\")"
   ]
  },
  {
   "cell_type": "code",
   "execution_count": 74,
   "metadata": {
    "collapsed": true
   },
   "outputs": [],
   "source": [
    "from keras.models import load_model\n",
    "\n",
    "loaded_model = load_model('nn_model.h5')"
   ]
  },
  {
   "cell_type": "code",
   "execution_count": 99,
   "metadata": {},
   "outputs": [
    {
     "name": "stdout",
     "output_type": "stream",
     "text": [
      "[[8.1941773e-11 3.9324896e-06 4.0330440e-11 7.9994847e-05 1.1384566e-02\n",
      "  2.5012303e-06 1.2878934e-03 9.8701549e-01 5.0460727e-07 1.9047858e-06\n",
      "  1.1516807e-06 1.9241884e-04 2.1945944e-07 2.9516321e-05]] DELETION OF INTEREST 0.9870155\n"
     ]
    }
   ],
   "source": [
    "labels = ['APPLICATION', 'BILL', 'BILL BINDER', 'BINDER', 'CANCELLATION NOTICE','CHANGE ENDORSEMENT', 'DECLARATION', 'DELETION OF INTEREST','EXPIRATION NOTICE', 'INTENT TO CANCEL NOTICE', 'NON-RENEWAL NOTICE','POLICY CHANGE', 'REINSTATEMENT NOTICE', 'RETURNED CHECK']\n",
    "new_complaint_1 = ['cde4f1b2a877 6bf9c0cb01b4 0562c756a2f2 fbb5efbcc5b3 fe081ae57a8b 17bd1f49c9a0 b32153b8b30c 6bf9c0cb01b4 6d1fb90988cf 586242498a88 9ad186d42f69 6b343f522f78 133d46f7ed38 96e70b2e2fc0 6a01047db3ab 40f3a08093c6 ed5d3a65ee2d 6dcc75eaf823 1b6d0614f2c7 3486e5fe0d73 78c3a5c15b68 818a7ff3bf29 578830762b27 d4e08985be1b 2784a2673880 bb11d257e651 7420f0cec354 de4f651eb63b 08cb6a7500f0 5a77390e41f4 d9154c7af554 2b8fa57a48e8 a179031d810a fe081ae57a8b 1015893e384a 5e99d31d8fa4 03ea8eaf674b d06da7343293 ba02159e05b1 892d541c89eb aa1ef5f5355f cf2205dbb077 5071d8aa3768 6b223a390d86 6ce6cc5a3203 b208ae1e8232 efaed70caea1 da8d83a0384e 264341a890cc 1f2955d33eb7 ba3c06a73274 03723393fa70 1015893e384a 586242498a88 1641a72fa752 7d9e333a86da f877ed7dcf49 6bf9c0cb01b4 6b1c8f75a7e2 b32153b8b30c 93790ade6682 a65259ff0092 e432c4501410 b61f1af56200 036087ac04f9 b136f6349cf3 8a3fc46e34c1 6d25574664d2 9cdf4a63deb0 b59e343416f7 d774c0d219f8 3e73b9113504 a457c1b23e3d 0562c756a2f2 0562c756a2f2 93b68f0988ef 4e5019f629a9 eeb86a6a04e4 98d0d51b397c ef237222adfc 1450168c4ac2 22b937b93ed2 f6f466726339 395a5e8185f8 07b4174549d4 b9925442c9c9 8d1bd25011d1 ef4ba44cdf5f 9a42ead47d1c 73801426ea65 0226fe922dd0 8f75273e5510 e1a726bff8dc 3012dd989e4f 95ef80a0b841 7d9e333a86da']\n",
    "padded_1 = vectorizer.transform(new_complaint_1)\n",
    "#labels = y_.columns\n",
    "pred_1 = loaded_model.predict(padded_1)\n",
    "print(pred_1, labels[np.argmax(pred_1)], max(pred_1[0]))"
   ]
  }
 ],
 "metadata": {
  "kernelspec": {
   "display_name": "Python 3",
   "language": "python",
   "name": "python3"
  },
  "language_info": {
   "codemirror_mode": {
    "name": "ipython",
    "version": 3
   },
   "file_extension": ".py",
   "mimetype": "text/x-python",
   "name": "python",
   "nbconvert_exporter": "python",
   "pygments_lexer": "ipython3",
   "version": "3.6.3"
  }
 },
 "nbformat": 4,
 "nbformat_minor": 2
}
